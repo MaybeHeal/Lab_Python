{
 "cells": [
  {
   "cell_type": "markdown",
   "metadata": {},
   "source": [
    "                                                              Ф.И.О."
   ]
  },
  {
   "cell_type": "markdown",
   "metadata": {},
   "source": [
    "#                                    Лабораторная работа №1"
   ]
  },
  {
   "cell_type": "markdown",
   "metadata": {},
   "source": [
    "**I.** Вызвать в интерктивном режиме *import this*, изучить философию разработчиков."
   ]
  },
  {
   "cell_type": "code",
   "execution_count": 1,
   "metadata": {},
   "outputs": [
    {
     "name": "stdout",
     "output_type": "stream",
     "text": [
      "The Zen of Python, by Tim Peters\n",
      "\n",
      "Beautiful is better than ugly.\n",
      "Explicit is better than implicit.\n",
      "Simple is better than complex.\n",
      "Complex is better than complicated.\n",
      "Flat is better than nested.\n",
      "Sparse is better than dense.\n",
      "Readability counts.\n",
      "Special cases aren't special enough to break the rules.\n",
      "Although practicality beats purity.\n",
      "Errors should never pass silently.\n",
      "Unless explicitly silenced.\n",
      "In the face of ambiguity, refuse the temptation to guess.\n",
      "There should be one-- and preferably only one --obvious way to do it.\n",
      "Although that way may not be obvious at first unless you're Dutch.\n",
      "Now is better than never.\n",
      "Although never is often better than *right* now.\n",
      "If the implementation is hard to explain, it's a bad idea.\n",
      "If the implementation is easy to explain, it may be a good idea.\n",
      "Namespaces are one honking great idea -- let's do more of those!\n"
     ]
    }
   ],
   "source": [
    "import this"
   ]
  },
  {
   "cell_type": "markdown",
   "metadata": {},
   "source": [
    "**II.** Внимательно изучить  [PEP 8][1] (Python Enhancement Proposal) - руководство по написанию кода на Python.\n",
    "\n",
    "[1]: https://pythonworld.ru/osnovy/pep-8-rukovodstvo-po-napisaniyu-koda-na-python.html              \"PEP 8\""
   ]
  },
  {
   "cell_type": "markdown",
   "metadata": {},
   "source": [
    "**III.** Реализовать задачи на языке программирования Python:"
   ]
  },
  {
   "cell_type": "markdown",
   "metadata": {},
   "source": [
    "**1.** Пользователь вводит числа А и В. Необходимо поменять значения А и В местами и вывести их на экран (минимум 5 способов). "
   ]
  },
  {
   "cell_type": "code",
   "execution_count": 2,
   "metadata": {},
   "outputs": [
    {
     "name": "stdout",
     "output_type": "stream",
     "text": [
      "Введённые данные не являются числом, повторите попытку.\n",
      "Введённые данные не являются числом, повторите попытку.\n",
      "77 12\n"
     ]
    }
   ],
   "source": [
    "while True:\n",
    "    try:\n",
    "        a = int(input('Введите a: '))\n",
    "        break\n",
    "    except:\n",
    "        print('Введённые данные не являются числом, повторите попытку.')\n",
    "\n",
    "while True:\n",
    "    try:\n",
    "        b = int(input('Введите b: '))\n",
    "        break\n",
    "    except:\n",
    "        print('Введённые данные не являются числом, повторите попытку.')\n",
    "        \n",
    "a, b = b, a\n",
    "print(a, b)"
   ]
  },
  {
   "cell_type": "markdown",
   "metadata": {},
   "source": [
    "**2.** По координатам, введенным пользователем, определить к какой четверти координатной плоскости относится точка. Если точка лежит на оси абсцисс или ординат или является началом координат, сообщить об этом."
   ]
  },
  {
   "cell_type": "code",
   "execution_count": 10,
   "metadata": {},
   "outputs": [
    {
     "name": "stdout",
     "output_type": "stream",
     "text": [
      "Введённые данные не являются числом, повторите попытку.\n",
      "Введённые данные не являются числом, повторите попытку.\n",
      "Точка лежит в I четверти\n"
     ]
    }
   ],
   "source": [
    "while True:\n",
    "    try:\n",
    "        x = float(input('Введите x: '))\n",
    "        break\n",
    "    except:\n",
    "        print('Введённые данные не являются числом, повторите попытку.')\n",
    "\n",
    "while True:\n",
    "    try:\n",
    "        y = float(input('Введите y: '))\n",
    "        break\n",
    "    except:\n",
    "        print('Введённые данные не являются числом, повторите попытку.')\n",
    "\n",
    "if x == 0 and y == 0:\n",
    "    print('Точка лежит в начале координат')\n",
    "elif x == 0 and y != 0:\n",
    "    print('Точка лежит на оси ординат')\n",
    "elif x != 0 and y == 0:\n",
    "    print('Точка лежит на оси абсцисс')\n",
    "else:\n",
    "    if x > 0 and y > 0:\n",
    "        print('Точка лежит в I четверти')\n",
    "    if x > 0 and y < 0:\n",
    "        print('Точка лежит в II четверти')\n",
    "    if x < 0 and y < 0:\n",
    "        print('Точка лежит в III четверти')\n",
    "    if x < 0 and y > 0:\n",
    "        print('Точка лежит в IV четверти')"
   ]
  },
  {
   "cell_type": "markdown",
   "metadata": {},
   "source": [
    "**3.** Найти значение функции $ y=f(x)$:\n",
    "\n",
    "\n",
    "$$ f(x) =\n",
    "  \\begin{cases}\n",
    "    \\sqrt{2x-1},       & \\quad \\text{при } x > 0 \\\\\n",
    "    0,        & \\quad \\text{при } x = 0 \\\\\n",
    "    |{x + 3}|,    & \\quad \\text{при } x < 0 \n",
    "  \\end{cases}\n",
    "$$\n",
    "\n",
    "\n",
    "\n"
   ]
  },
  {
   "cell_type": "code",
   "execution_count": 10,
   "metadata": {},
   "outputs": [
    {
     "name": "stdout",
     "output_type": "stream",
     "text": [
      "Значение функции равно: 3.0\n"
     ]
    }
   ],
   "source": [
    "while True:\n",
    "    try:\n",
    "        x = float(input('Введите x: '))\n",
    "        break\n",
    "    except:\n",
    "        print('Введённые данные не являются числом, повторите попытку.')\n",
    "\n",
    "if x > 0:\n",
    "    y = (2*x - 1) ** (0.5)\n",
    "elif x == 0:\n",
    "    y = 0\n",
    "elif x < 0:\n",
    "    y = abs(x + 3)\n",
    "    \n",
    "print(f'Значение функции равно: {y}')"
   ]
  },
  {
   "cell_type": "markdown",
   "metadata": {},
   "source": [
    "**4.** Пользователь вводит четырехзначное число. Необходимо определить сумму цифр этого четырехзначного числа."
   ]
  },
  {
   "cell_type": "code",
   "execution_count": 9,
   "metadata": {},
   "outputs": [
    {
     "name": "stdout",
     "output_type": "stream",
     "text": [
      "Введённые данные не являются числом, повторите попытку.\n",
      "Введённые данные не являются числом, повторите попытку.\n",
      "Введённое число не является четырёхзначным!\n",
      "Введённое число не является четырёхзначным!\n",
      "10\n"
     ]
    }
   ],
   "source": [
    "while True:\n",
    "    try:\n",
    "        x = int(input('Введите четырёхзначное число: '))\n",
    "        if 999 < x < 10000:\n",
    "            break\n",
    "        else:\n",
    "            print('Введённое число не является четырёхзначным!')\n",
    "    except:\n",
    "        print('Введённые данные не являются числом, повторите попытку.')\n",
    "\n",
    "print((x // 1000) + (x // 100) % 10 + (x // 10) % 10 + x % 10)"
   ]
  },
  {
   "cell_type": "markdown",
   "metadata": {},
   "source": [
    "**5.** Найти корни квадратного уравнения. Параметры уравнения вводятся пользователем."
   ]
  },
  {
   "cell_type": "code",
   "execution_count": 8,
   "metadata": {},
   "outputs": [
    {
     "name": "stdout",
     "output_type": "stream",
     "text": [
      "x1 = -0.10102051443364424, x2 = -9.898979485566356\n"
     ]
    }
   ],
   "source": [
    "\n",
    "while True:\n",
    "    try:\n",
    "        a = float(input('Введите коэффицент a: '))\n",
    "        break\n",
    "    except:\n",
    "        print('Введённый коэффицент a не является числом, повторите попытку.')\n",
    "\n",
    "while True:\n",
    "    try:\n",
    "        b = float(input('Введите коэффицент b: '))\n",
    "        break\n",
    "    except:\n",
    "        print('Введённый коэффицент b не является числом, повторите попытку.')\n",
    "        \n",
    "while True:\n",
    "    try:\n",
    "        c = float(input('Введите коэффицент c: '))\n",
    "        break\n",
    "    except:\n",
    "        print('Введённый коэффицент c не является числом, повторите попытку.')\n",
    "        \n",
    "dis = b ** 2 - 4 *a * c\n",
    "if dis > 0:\n",
    "    x1 = (-b + dis ** 0.5) / (2 * a)\n",
    "    x2 = (-b - dis ** 0.5) / (2 * a)\n",
    "    print(f'x1 = {x1}, x2 = {x2}')\n",
    "elif dis == 0:\n",
    "    print(-b/2*a)\n",
    "elif dis < 0:\n",
    "    print('Корней нет')\n"
   ]
  },
  {
   "cell_type": "markdown",
   "metadata": {},
   "source": [
    "**6.** Выведите первые А чисел Фиббоначи."
   ]
  },
  {
   "cell_type": "code",
   "execution_count": 1,
   "metadata": {},
   "outputs": [
    {
     "name": "stdout",
     "output_type": "stream",
     "text": [
      "Введённые данные не являются числом, повторите попытку.\n",
      "Введённые данные не являются числом, повторите попытку.\n",
      "1\n",
      "1\n",
      "2\n",
      "3\n"
     ]
    }
   ],
   "source": [
    "while True:\n",
    "    try:\n",
    "        a = int(input('Введите количество чисел Фибоначи, которое нужно вывести: '))\n",
    "        break\n",
    "    except:\n",
    "        print('Введённые данные не являются числом, повторите попытку.')\n",
    "\n",
    "num1 = 1\n",
    "num2 = 1\n",
    "if a == 1:\n",
    "    print(1)\n",
    "elif a == 2:\n",
    "    print(1)\n",
    "    print(1)\n",
    "else:\n",
    "    print(1)\n",
    "    print(1)\n",
    "    for i in range(a - 2):\n",
    "        num_sum = num1 + num2\n",
    "        num1 = num2\n",
    "        num2 = num_sum\n",
    "        print(num_sum)\n",
    "    "
   ]
  },
  {
   "cell_type": "markdown",
   "metadata": {},
   "source": [
    "**7.** Вывести на экран все четырехзначные числа, полученные перестановкой цифр введенного пользователем четырехзначного числа."
   ]
  },
  {
   "cell_type": "code",
   "execution_count": null,
   "metadata": {},
   "outputs": [],
   "source": [
    "while True:\n",
    "    try:\n",
    "        number = int(input('Введите четырёхзначное число: '))\n",
    "        if 999 < number < 10000:\n",
    "            number = str(number)\n",
    "            break\n",
    "        else:\n",
    "            print('Введённое число не является четырёхзначным!')\n",
    "    except:\n",
    "        print('Введённые данные не являются числом, повторите попытку.')\n",
    "\n",
    "for i in range(4):\n",
    "    for j in range(4):\n",
    "        for m in range(4):\n",
    "            for n in range(4):\n",
    "                if i != j and j != m and m != n and n != i and j != m and j != n and i != m:\n",
    "                    print(f'{number[i]}{number[j]}{number[m]}{number[n]}')"
   ]
  },
  {
   "cell_type": "markdown",
   "metadata": {},
   "source": [
    "**8.** Получите все четырехзначные числа Армстронга. Натуральное число n цифр называется числом Армстронга, если сумма его цифр, возведенных в n-ю степень, равна самому числу."
   ]
  },
  {
   "cell_type": "code",
   "execution_count": 57,
   "metadata": {},
   "outputs": [
    {
     "name": "stdout",
     "output_type": "stream",
     "text": [
      "1634\n",
      "8208\n",
      "9474\n"
     ]
    }
   ],
   "source": [
    "for a in range(1000, 10000):\n",
    "    b = str(a)\n",
    "    if a == int(b[0]) ** 4 + int(b[1]) ** 4 + int(b[2]) ** 4 + int(b[3]) ** 4:\n",
    "        print(a)"
   ]
  }
 ],
 "metadata": {
  "celltoolbar": "Raw Cell Format",
  "kernelspec": {
   "display_name": "Python 3 (ipykernel)",
   "language": "python",
   "name": "python3"
  },
  "language_info": {
   "codemirror_mode": {
    "name": "ipython",
    "version": 3
   },
   "file_extension": ".py",
   "mimetype": "text/x-python",
   "name": "python",
   "nbconvert_exporter": "python",
   "pygments_lexer": "ipython3",
   "version": "3.12.0"
  }
 },
 "nbformat": 4,
 "nbformat_minor": 4
}
