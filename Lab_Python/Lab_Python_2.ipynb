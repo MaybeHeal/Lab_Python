{
 "cells": [
  {
   "cell_type": "markdown",
   "metadata": {},
   "source": [
    "                                                              Ф.И.О."
   ]
  },
  {
   "cell_type": "markdown",
   "metadata": {},
   "source": [
    "#                                    Лабораторная работа №2"
   ]
  },
  {
   "cell_type": "markdown",
   "metadata": {},
   "source": [
    "## Строки в Python"
   ]
  },
  {
   "cell_type": "markdown",
   "metadata": {},
   "source": [
    "Каждая задача должна быть реализована в 2 вариантах – с использованием и без использования регулярных выражений."
   ]
  },
  {
   "cell_type": "markdown",
   "metadata": {},
   "source": [
    "**1.** В исходной строке после каждой заданной пользователем\n",
    "буквы вставьте заданную подстроку."
   ]
  },
  {
   "cell_type": "code",
   "execution_count": 3,
   "metadata": {},
   "outputs": [
    {
     "name": "stdout",
     "output_type": "stream",
     "text": [
      "a*1\\n*213g*g*g*\n",
      "a*1\\n*213g*g*g*\n"
     ]
    }
   ],
   "source": [
    "import string\n",
    "import re\n",
    "\n",
    "\n",
    "def without_re(s, us):\n",
    "    cs = ''\n",
    "    for i in s:\n",
    "        if i in string.ascii_letters:\n",
    "            cs += i + us\n",
    "        else:\n",
    "            cs += i\n",
    "    print(cs)\n",
    "\n",
    "\n",
    "def with_re(s, us):\n",
    "    spl = re.sub(r'([a-zA-Z])', fr'\\1{us}', s)\n",
    "    print(spl)\n",
    "\n",
    "\n",
    "s1 = str(input('Введите строку: '))\n",
    "us1 = str(input('Введите подстроку: '))\n",
    "without_re(s1, us1)\n",
    "with_re(s1, us1)"
   ]
  },
  {
   "cell_type": "markdown",
   "metadata": {},
   "source": [
    "**2.** Подсчитайте сумму чисел, встречающихся в строке. Символ ‘–’ перед числом считается знаком отрицательного числа. Все остальные символы (кроме цифр и минуса) считаются разделителями между числами."
   ]
  },
  {
   "cell_type": "code",
   "execution_count": 3,
   "metadata": {},
   "outputs": [
    {
     "name": "stdout",
     "output_type": "stream",
     "text": [
      "-1233\n",
      "-1233\n"
     ]
    }
   ],
   "source": [
    "import string\n",
    "import re\n",
    "\n",
    "\n",
    "def without_re(s):\n",
    "    ns = ''\n",
    "    pe = 0\n",
    "    for i in s:\n",
    "        if i in string.digits:\n",
    "            ns += i\n",
    "        elif i == '-':\n",
    "            if ns == '-':\n",
    "                ns = i\n",
    "            elif ns != '':\n",
    "                pe += int(ns)\n",
    "                ns = i\n",
    "            else:\n",
    "                ns += i\n",
    "        elif ns != '':\n",
    "            if ns == '-':\n",
    "                ns = ''\n",
    "            else:\n",
    "                pe += int(ns)\n",
    "                ns = ''\n",
    "    if ns != '':\n",
    "        pe += int(ns)\n",
    "    print(pe)\n",
    "\n",
    "\n",
    "def with_re(s):\n",
    "    spl = re.findall(r'-?\\d+', s)\n",
    "    g = 0\n",
    "    for i in spl:\n",
    "        g += int(i)\n",
    "    print(g)\n",
    "\n",
    "\n",
    "st = str(input('Введите строку: '))\n",
    "without_re(st)\n",
    "with_re(st)"
   ]
  },
  {
   "cell_type": "markdown",
   "metadata": {},
   "source": [
    "**3.** Сформируйте новую строку, отличающуюся от исходной тем, что группы идущих подряд одинаковых символов разделены символом \\*. Пример ееннне -> ее\\*ннн\\*е, ппрол-> пп\\*р\\*о\\*л."
   ]
  },
  {
   "cell_type": "code",
   "execution_count": 1,
   "metadata": {},
   "outputs": [
    {
     "name": "stdout",
     "output_type": "stream",
     "text": [
      "а*гг*а*н*щ*66*77*6*ааа\n",
      "а*гг*а*н*щ*66*77*6*ааа\n"
     ]
    }
   ],
   "source": [
    "import re\n",
    "\n",
    "\n",
    "def without_re(s):\n",
    "    ns = s[0]\n",
    "    for i in range(1, len(s)):\n",
    "        if s[i] == ns[-1]:\n",
    "            ns += s[i]\n",
    "        else:\n",
    "            ns += f'*{s[i]}'\n",
    "    print(ns)\n",
    "\n",
    "\n",
    "def with_re(s):\n",
    "    s = re.sub(r'((.)\\2*)', r'\\1*', s)[:-1]\n",
    "    print(s)\n",
    "\n",
    "st = str(input('Введите строку: '))\n",
    "without_re(st)\n",
    "with_re(st)"
   ]
  },
  {
   "cell_type": "markdown",
   "metadata": {},
   "source": [
    "**4.** Удалите из строки последовательности символов, расположенные между круглыми скобками вместе со скобками (считается, что скобки в строке расставлены без ошибок)."
   ]
  },
  {
   "cell_type": "code",
   "execution_count": 10,
   "metadata": {},
   "outputs": [
    {
     "name": "stdout",
     "output_type": "stream",
     "text": [
      "adsfasdfasdfs\n",
      "adsfasdfasdfs\n"
     ]
    }
   ],
   "source": [
    "import re\n",
    "\n",
    "\n",
    "def without_re(s):\n",
    "    for i in s:\n",
    "        if i == '(':\n",
    "            k1 = s.index(i)\n",
    "        elif i == ')':\n",
    "            k2 = s.index(i)\n",
    "            s = s[:k1] + s[k2 + 1:]\n",
    "    print(s)\n",
    "\n",
    "\n",
    "def with_re(s):\n",
    "    s = re.sub(r'(\\(.*?\\))', '', s)\n",
    "    print(s)\n",
    "\n",
    "st = str(input('Введите строку: '))\n",
    "without_re(st)\n",
    "with_re(st)"
   ]
  },
  {
   "cell_type": "markdown",
   "metadata": {},
   "source": [
    "**5.** Преобразовать сегодняшнюю дату в системном представлении (2018-09-17) в привычный для нас формат день/месяц/год (17/09/2018). Известно, что на год выделено всегда 4 цифры, а на день и месяц – всегда 2 цифры.\n",
    "\n",
    "Примечание:\n",
    "за работу с датами и временем в Python отвечает модуль datetime, а непосредственно для работы с датами используется объект date и его методы."
   ]
  },
  {
   "cell_type": "code",
   "execution_count": 7,
   "metadata": {},
   "outputs": [
    {
     "name": "stdout",
     "output_type": "stream",
     "text": [
      "2023-11-26\n",
      "26/11/2023\n"
     ]
    }
   ],
   "source": [
    "from datetime import date\n",
    "\n",
    "#### Получаем текущую дату\n",
    "d1 = date.today()\n",
    "#### Преобразуем результат в строку\n",
    "ds = str(d1)\n",
    "print(ds)\n",
    "ds = re.sub(r'(\\d{4})-(\\d\\d)-(\\d\\d)', r'\\3/\\2/\\1', ds)\n",
    "print(ds)"
   ]
  },
  {
   "cell_type": "markdown",
   "metadata": {},
   "source": [
    "**6.** Выведите слова сообщения, являющиеся палиндромами, по убыванию их длин. Для повторяющихся слов в скобках указывать количество повторов."
   ]
  },
  {
   "cell_type": "code",
   "execution_count": null,
   "metadata": {},
   "outputs": [],
   "source": []
  },
  {
   "cell_type": "markdown",
   "metadata": {},
   "source": [
    "**7.** Исправьте строку в соответствии с правилом расстановки знаков препинания (точка, запятая, тире, точка с запятой, двоеточие,\n",
    "многоточие, круглые, квадратные и фигурные скобки):\n",
    "перед каждым знаком препинания (кроме тире и открывающихся скобок) пробел отсутствует, а после любого знака препинания (кроме\n",
    "открывающихся скобок) стоит ровно один пробел; в многоточии между точками пробелы отсутствуют."
   ]
  },
  {
   "cell_type": "code",
   "execution_count": null,
   "metadata": {},
   "outputs": [],
   "source": []
  }
 ],
 "metadata": {
  "kernelspec": {
   "display_name": "Python 3",
   "language": "python",
   "name": "python3"
  },
  "language_info": {
   "codemirror_mode": {
    "name": "ipython",
    "version": 3
   },
   "file_extension": ".py",
   "mimetype": "text/x-python",
   "name": "python",
   "nbconvert_exporter": "python",
   "pygments_lexer": "ipython3",
   "version": "3.12.0"
  }
 },
 "nbformat": 4,
 "nbformat_minor": 4
}
