{
 "cells": [
  {
   "cell_type": "markdown",
   "metadata": {},
   "source": [
    "                                                                Ф.И.О."
   ]
  },
  {
   "cell_type": "markdown",
   "metadata": {},
   "source": [
    "#                                    Лабораторная работа №3"
   ]
  },
  {
   "cell_type": "markdown",
   "metadata": {},
   "source": [
    "###  Списки, кортежи, множества в Python"
   ]
  },
  {
   "cell_type": "markdown",
   "metadata": {},
   "source": [
    "**1.**\tДан список подобных кортежей:\n",
    "\n",
    "_hotel_rooms = [(‘Ann’, 400), (‘Elizabeth’, 103), (‘Mr. McMullen’, 202), (‘Mrs. Smith\", 200)]_\n",
    "\n",
    "Вывести на экран последовательность сообщений вида: \n",
    "\n",
    "*Hello, Ann! Your room is 400.*\n",
    "\n",
    "Для тех, кто указан как мистер / миссис / мисс, сообщение должно выглядеть так:\n",
    "\n",
    "*Good morning, Mr. McMullen! Your room is 202.*"
   ]
  },
  {
   "cell_type": "code",
   "execution_count": 1,
   "metadata": {},
   "outputs": [
    {
     "name": "stdout",
     "output_type": "stream",
     "text": [
      "Hello, Ann! Your room is 400.\n",
      "Hello, Elizabeth! Your room is 103.\n",
      "Good morning, Mr. McMullen! Your room is 202.\n",
      "Good morning, Mrs. Smith! Your room is 200.\n"
     ]
    }
   ],
   "source": [
    "hotel_rooms = [('Ann', 400), ('Elizabeth', 103), ('Mr. McMullen', 202), ('Mrs. Smith', 200)]\n",
    "for i in hotel_rooms:\n",
    "    if 'Mr.' in i[0] or 'Mrs.' in i[0]:\n",
    "        print(f'Good morning, {i[0]}! Your room is {i[1]}.')\n",
    "    else:\n",
    "        print(f'Hello, {i[0]}! Your room is {i[1]}.')"
   ]
  },
  {
   "cell_type": "markdown",
   "metadata": {},
   "source": [
    "**2.** В списке чисел найти самую длинную последовательность, которая упорядочена по возрастанию. Если таких последовательностей несколько (с одинаковой максимальной длиной), то найти их все. Вывести на экран сам список, длину самой длинной упорядоченной по возрастанию последовательности, саму последовательность (или несколько)."
   ]
  },
  {
   "cell_type": "code",
   "execution_count": 7,
   "metadata": {},
   "outputs": [
    {
     "name": "stdout",
     "output_type": "stream",
     "text": [
      "[170, 94, 25, 65, 44, 23, 183, 64, 161, 1, 35, 95, 5, 131, 157, 105, 117, 176, 185, 174]\n",
      "[[170], [94], [25, 65], [44], [23, 183], [64, 161], [1, 35, 95], [5, 131, 157], [105, 117, 176, 185], [174]]\n",
      "4\n",
      "[105, 117, 176, 185]\n"
     ]
    }
   ],
   "source": [
    "from random import randint\n",
    "\n",
    "def num_list_generator():\n",
    "    numbers = []\n",
    "    while len(numbers) < 20:\n",
    "        numbers.append(randint(0, 200))\n",
    "    return numbers\n",
    "\n",
    "def num_sequence():\n",
    "    num_list = num_list_generator()\n",
    "    print(num_list)\n",
    "    num_seq_list = []\n",
    "    num_seq = []\n",
    "\n",
    "    for i in range(len(num_list) - 1):\n",
    "        if num_list[i] <= num_list[i + 1]:\n",
    "            num_seq.append(num_list[i])\n",
    "        else:\n",
    "            num_seq.append(num_list[i])\n",
    "            num_seq_list.append(num_seq)\n",
    "            num_seq = []\n",
    "    num_seq.append(num_list[-1])    \n",
    "    num_seq_list.append(num_seq)\n",
    "    print(num_seq_list)\n",
    "\n",
    "    max_seq_len = len(max(num_seq_list, key=len))\n",
    "    print(max_seq_len)\n",
    "\n",
    "    for i in num_seq_list:\n",
    "        if len(i) == max_seq_len:\n",
    "            print(i)\n",
    "\n",
    "num_sequence()"
   ]
  },
  {
   "cell_type": "markdown",
   "metadata": {},
   "source": [
    "**3.**\tВ списке чисел проверить, все ли элементы являются уникальными, т. е. каждое число встречается только один раз. Решить минимум двумя способами."
   ]
  },
  {
   "cell_type": "code",
   "execution_count": 89,
   "metadata": {},
   "outputs": [
    {
     "name": "stdout",
     "output_type": "stream",
     "text": [
      "[79, 7, 94, 159, 118, 154, 18, 79, 192, 101, 110, 197, 159, 197, 96, 183, 177, 48, 141, 174]\n",
      "В списке встречаются не уникальные элементы.\n",
      "В списке встречаются не уникальные элементы.\n"
     ]
    }
   ],
   "source": [
    "from random import randint\n",
    "\n",
    "def num_list_generator():\n",
    "    numbers = []\n",
    "    while len(numbers) < 20:\n",
    "        numbers.append(randint(0, 200))\n",
    "    return numbers\n",
    "\n",
    "# Способ 1:\n",
    "def unique_nums1(num_list):\n",
    "    a = set(num_list)\n",
    "    if len(a) != len(num_list):\n",
    "        print('В списке встречаются не уникальные элементы.')\n",
    "    else:\n",
    "        print('Все элементы списка являются уникальными.')\n",
    "\n",
    "# Способ 2:\n",
    "def unique_nums2(num_list):\n",
    "    g = False\n",
    "    for n in num_list:\n",
    "        if num_list.count(n) > 1:\n",
    "            print('В списке встречаются не уникальные элементы.')\n",
    "            g = True\n",
    "            break \n",
    "    if g == False:\n",
    "        print('Все элементы списка являются уникальными.')\n",
    "\n",
    "num_list = num_list_generator()\n",
    "print(num_list)\n",
    "unique_nums1(num_list)\n",
    "unique_nums2(num_list)"
   ]
  },
  {
   "cell_type": "code",
   "execution_count": null,
   "metadata": {},
   "outputs": [],
   "source": []
  },
  {
   "cell_type": "markdown",
   "metadata": {},
   "source": [
    "**4.** Удалить из списка, состоящего из n чисел в диапазоне от 0 до A (A - случайное число от 1 до 100), все элементы, которые больше A / 6 и меньше 5 * A / 6. При этом удаляемые числа сохранить в другом списке."
   ]
  },
  {
   "cell_type": "code",
   "execution_count": 7,
   "metadata": {},
   "outputs": [
    {
     "name": "stdout",
     "output_type": "stream",
     "text": [
      "A: 18\n",
      "[0, 17, 2, 14, 7, 6, 1, 14, 13, 7, 7, 2, 11, 12, 17]\n",
      "[0, 17, 2, 1, 13, 7, 7, 2, 12, 17]\n",
      "[14, 6, 14, 7, 11]\n"
     ]
    }
   ],
   "source": [
    "from random import randint\n",
    "\n",
    "\n",
    "def num_list_generator():\n",
    "    while True:\n",
    "        try:\n",
    "            n = int(input('Введите длину списка: '))\n",
    "            if n > 0:\n",
    "                break\n",
    "            else:\n",
    "                print('Длина должна быть положительным числом больше 0.')\n",
    "        except:\n",
    "            print('Введённые данные не являются числом, повторите попытку.')\n",
    "\n",
    "    a = randint(1, 100)\n",
    "    print(f'A: {a}')\n",
    "    numbers = []\n",
    "    while len(numbers) < n:\n",
    "        numbers.append(randint(0, a))\n",
    "    return numbers, a\n",
    "\n",
    "\n",
    "def num_remover():\n",
    "    num_list, a = num_list_generator()\n",
    "    del_num_list = []\n",
    "    print('Исходный список:', num_list)\n",
    "    for i in num_list:\n",
    "        if a / 6 < i < 5 * a / 6:\n",
    "            del_num_list.append(i)\n",
    "    for i in del_num_list:\n",
    "        num_list.remove(i)\n",
    "    print('Результат:', num_list)\n",
    "    print('Удалённые числа:', del_num_list)"
   ]
  },
  {
   "cell_type": "markdown",
   "metadata": {},
   "source": [
    "**5.**\tНапишите программу, на вход которой подаётся список чисел одной строкой. Программа должна для каждого элемента этого списка вывести сумму двух его соседей. Для элементов списка, являющихся крайними, одним из соседей считается элемент, находящий на противоположном конце этого списка. Например, если на вход подаётся список 1 3 5 6 10, то на выход ожидается список 13 6 9 15 7. Если на вход пришло только одно число, надо вывести его же. Вывод должен содержать одну строку с числами нового списка, разделёнными пробелом."
   ]
  },
  {
   "cell_type": "code",
   "execution_count": 1,
   "metadata": {},
   "outputs": [
    {
     "name": "stdout",
     "output_type": "stream",
     "text": [
      "['123', '423', '56', '123', '6664', '31']\n",
      "454 179 546 6720 154 6787\n"
     ]
    }
   ],
   "source": [
    "a = input()\n",
    "\n",
    "a = a.split(' ')\n",
    "\n",
    "print(a)\n",
    "\n",
    "s = ''\n",
    "if len(a) == 1:\n",
    "  print(a[0])\n",
    "elif len(a) > 1:\n",
    "  for i in range(len(a)):\n",
    "    if i == 0:\n",
    "      s += f'{int(a[1]) + int(a[-1])} '\n",
    "    elif i == len(a) - 1:\n",
    "      s += f'{int(a[0]) + int(a[-2])}'\n",
    "    else:\n",
    "      s += f'{int(a[i-1]) + int(a[i+1])} '\n",
    "\n",
    "print(s)"
   ]
  },
  {
   "cell_type": "markdown",
   "metadata": {},
   "source": [
    "**6.**\tВывести по алфавиту список слов, входящих в исходный текст. Знаки препинания исключаются, каждое слово выводится по одному разу."
   ]
  },
  {
   "cell_type": "code",
   "execution_count": 7,
   "metadata": {},
   "outputs": [
    {
     "name": "stdout",
     "output_type": "stream",
     "text": [
      "в\n",
      "важную\n",
      "деятельности\n",
      "играет\n",
      "информационно\n",
      "ключевых\n",
      "компонентов\n",
      "нашей\n",
      "обеспечение\n",
      "обновления\n",
      "образом\n",
      "планируемого\n",
      "постоянное\n",
      "роль\n",
      "таким\n",
      "техническое\n",
      "формировании\n"
     ]
    }
   ],
   "source": [
    "import re\n",
    "\n",
    "text = input('Введите текст: ').lower()\n",
    "\n",
    "word_list = sorted(set(re.findall(r'\\w+', text)))\n",
    "\n",
    "for word in word_list:\n",
    "    print(word)"
   ]
  },
  {
   "cell_type": "markdown",
   "metadata": {},
   "source": [
    "**7.**\tОтсортируйте элементы списка, расположенные между первым положительным и последним отрицательным элементами."
   ]
  },
  {
   "cell_type": "code",
   "execution_count": 91,
   "metadata": {},
   "outputs": [
    {
     "name": "stdout",
     "output_type": "stream",
     "text": [
      "0 -3\n",
      "[73, 87, 13, 60, 72, -70, 39, 42, -37, 84, 59, -42, -97, 11, 96, 29, 4, -68, 35, -35, 96, -29, -54, 29, -29, 86, 4, -80, 81, 93, 20, -67, 40, 40, -76, 17, -75, -69, -78, 21, -74, 88, 68, 39, 83, 5, -46, -26, 76, -48, 95, 7, -83, 33, -25, 27, -66, 0, -47, -62, 65, -65, -100, -97, -15, 49, -33, -69, 98, -47, 26, -64, -85, -42, 77, -62, -84, -36, 14, -15, -44, -32, 21, 86, 90, 87, -72, 33, 27, -80, -61, 97, -93, 37, -35, -96, 57, -64, 1, 14]\n",
      "[73, -100, -97, -97, -96, -93, -85, -84, -83, -80, -80, -78, -76, -75, -74, -72, -70, -69, -69, -68, -67, -66, -65, -64, -62, -62, -61, -54, -48, -47, -47, -46, -44, -42, -42, -37, -36, -35, -35, -33, -32, -29, -29, -26, -25, -15, -15, 0, 4, 4, 5, 7, 11, 13, 14, 17, 20, 21, 21, 26, 27, 27, 29, 29, 33, 33, 35, 37, 39, 39, 40, 40, 42, 49, 57, 59, 60, 65, 68, 72, 76, 77, 81, 83, 84, 86, 86, 87, 87, 88, 90, 93, 95, 96, 96, 97, 98, -64, 1, 14]\n"
     ]
    }
   ],
   "source": [
    "from random import randint\n",
    "def special_sort():\n",
    "    num_list = [randint(-100, 100) for i in range(100)]\n",
    "\n",
    "    for num in num_list:\n",
    "        if num > 0:\n",
    "            pos_num = num_list.index(num)\n",
    "            break\n",
    "\n",
    "    for num in reversed(num_list):\n",
    "        if num < 0:\n",
    "            neg_num = -1 - list(reversed(num_list)).index(num)\n",
    "            break\n",
    "    print(pos_num, neg_num)\n",
    "    print(num_list)\n",
    "    print(num_list[:pos_num + 1] + sorted(num_list[pos_num + 1:len(num_list) + neg_num]) + num_list[neg_num:])\n",
    "\n",
    "special_sort()"
   ]
  },
  {
   "cell_type": "markdown",
   "metadata": {},
   "source": [
    "**8.** В исходном списке из n элементов встречаются по одному разу все целые числа от 0 до n, кроме одного. Найдите пропущенное число и выведите его на экран. Решить минимум двумя способами."
   ]
  },
  {
   "cell_type": "code",
   "execution_count": null,
   "metadata": {},
   "outputs": [],
   "source": []
  },
  {
   "cell_type": "code",
   "execution_count": null,
   "metadata": {},
   "outputs": [],
   "source": []
  },
  {
   "cell_type": "markdown",
   "metadata": {},
   "source": [
    "**9.**\tДаны два неубывающих списка. Найдите их «пересечение», т. е. список, содержащий общие элементы исходных списков, причем кратность каждого элемента в итоговом списке равняется минимуму из его кратностей в исходных списках."
   ]
  },
  {
   "cell_type": "code",
   "execution_count": null,
   "metadata": {},
   "outputs": [],
   "source": []
  },
  {
   "cell_type": "markdown",
   "metadata": {},
   "source": [
    "**10.** Дан неубывающий список положительных целых чисел. Определите, можно ли составить заданное число как сумму нескольких подряд идущих элементов этого списка."
   ]
  },
  {
   "cell_type": "code",
   "execution_count": null,
   "metadata": {},
   "outputs": [],
   "source": []
  },
  {
   "cell_type": "code",
   "execution_count": null,
   "metadata": {},
   "outputs": [],
   "source": []
  }
 ],
 "metadata": {
  "anaconda-cloud": {},
  "kernelspec": {
   "display_name": "Python 3",
   "language": "python",
   "name": "python3"
  },
  "language_info": {
   "codemirror_mode": {
    "name": "ipython",
    "version": 3
   },
   "file_extension": ".py",
   "mimetype": "text/x-python",
   "name": "python",
   "nbconvert_exporter": "python",
   "pygments_lexer": "ipython3",
   "version": "3.12.0"
  }
 },
 "nbformat": 4,
 "nbformat_minor": 4
}
