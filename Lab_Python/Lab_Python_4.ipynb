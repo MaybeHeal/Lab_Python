{
 "cells": [
  {
   "cell_type": "markdown",
   "metadata": {},
   "source": [
    "                                                    Ф.И.О."
   ]
  },
  {
   "cell_type": "markdown",
   "metadata": {},
   "source": [
    "# Лабораторная работа № 4"
   ]
  },
  {
   "cell_type": "markdown",
   "metadata": {},
   "source": [
    "### Словари, файлы в Python"
   ]
  },
  {
   "cell_type": "markdown",
   "metadata": {},
   "source": [
    "**1.**\tВ файле input.txt хранится англо-русский словарь. Создать русско-английский словарь и сохранить его в отсортированном виде в файле output.txt.   \n",
    "  \n",
    "**input.txt**\n",
    "\n",
    "*apple – лесть, яблоко  \n",
    "soap – лесть, мыло  \n",
    "foam – мыло, пена*\n",
    "  \n",
    "**output.txt** \n",
    "\n",
    "*лесть – apple, soap  \n",
    "мыло – foam, soap  \n",
    "пена – foam  \n",
    "яблоко – apple*  \n"
   ]
  },
  {
   "cell_type": "code",
   "execution_count": 26,
   "metadata": {},
   "outputs": [],
   "source": [
    "from os import path\n",
    "\n",
    "if not path.exists('input.txt'):\n",
    "    with open('input.txt', mode='w', encoding='utf-8') as file:\n",
    "        file.writelines('apple - яблоко\\nflattery - лесть\\nfoam - пена\\nsoap - мыло')\n",
    "\n",
    "dictionary = []\n",
    "with open('input.txt', mode='r', encoding='utf-8') as file:\n",
    "    for i in file:\n",
    "        i = i.replace('\\n', '').split(' - ')\n",
    "        dictionary.append(f'{i[1]} - {i[0]}')\n",
    "\n",
    "with open('output.txt', mode='w', encoding='utf-8') as file:\n",
    "    for i in sorted(dictionary):\n",
    "        if i != sorted(dictionary)[-1]:\n",
    "            i += '\\n'\n",
    "        file.write(i)"
   ]
  },
  {
   "cell_type": "markdown",
   "metadata": {},
   "source": [
    "**2.**\tИгра «Знаешь ли ты своих друзей?». Имеется каталог с файлами, содержащими анкетные данные друзей. Все файлы имеют одинаковый формат. \n",
    "\n",
    "#### Имя\n",
    "*Иван*\n",
    "#### Фамилия\n",
    "*Иванов*  \n",
    "#### Возраст  \n",
    "*24* \n",
    "#### Любимая еда  \n",
    "*Пицца*  \n",
    "#### Музыкальная группа  \n",
    "*Nirvana*  \n",
    "#### Заветная мечта  \n",
    "*Прыгнуть с парашютом*\n",
    "\n",
    "\n",
    "Сохранить все данные в словарь (ключи – имена и фамилии пользователей, значения – все остальное).   \n",
    "Затем программа случайным образом загадывает любую категорию (кроме имени и фамилии), выводит ее значение и предлагает угадать, что это был за друг. Если игрок не угадывает – предлагается другая категория. Если игрок не угадал по всем категориям, программа выдает правильный ответ.\n"
   ]
  },
  {
   "cell_type": "code",
   "execution_count": null,
   "metadata": {},
   "outputs": [],
   "source": []
  },
  {
   "cell_type": "markdown",
   "metadata": {},
   "source": [
    "**3.**\tСоздайте словарь, где ключами являются числа, а значениями – строки. Примените к нему метод items(), полученный объект dict_items передайте в написанную вами функцию, которая создает и возвращает новый словарь, обратный исходному, т.е. ключами являются строки, а значениями – числа или списки чисел."
   ]
  },
  {
   "cell_type": "code",
   "execution_count": 14,
   "metadata": {},
   "outputs": [
    {
     "data": {
      "text/plain": [
       "{'sdaf': 1, 'asdwe': 2, 'wetwws': 3, 'yytncv': 4, 'ghdasd': 5}"
      ]
     },
     "execution_count": 14,
     "metadata": {},
     "output_type": "execute_result"
    }
   ],
   "source": [
    "some_dict = {1: 'sdaf', 2: 'asdwe', 3: 'wetwws', 4: 'yytncv', 5: 'ghdasd'}\n",
    "\n",
    "\n",
    "def dict_inverter(source_dict):\n",
    "    dict_items = source_dict.items()\n",
    "    new_dict = {}\n",
    "    for item in dict_items:\n",
    "        new_dict[item[1]] = item[0]\n",
    "    return new_dict\n",
    "\n",
    "dict_inverter(some_dict)"
   ]
  },
  {
   "cell_type": "markdown",
   "metadata": {},
   "source": [
    "**4.**\tИмеется каталог X, содержащий файлы и другие каталоги. Создать копию структуры каталогов, где каждый файл *.txt обрабатывается следующим образом: первой строкой вставляется число строк в исходном файле, а последней строкой – уровень вложенности в каталог X. Остальные файлы пропускаются. Сам каталог X и его содержимое изменяться не должны."
   ]
  },
  {
   "cell_type": "code",
   "execution_count": null,
   "metadata": {},
   "outputs": [],
   "source": []
  },
  {
   "cell_type": "markdown",
   "metadata": {},
   "source": [
    "**5.**\tНапишите программу, которая для заданного каталога создает подкаталоги, соответствующие дате создания каждого отдельного файла, и перемещает каждый файл в соответствующий дате каталог."
   ]
  },
  {
   "cell_type": "code",
   "execution_count": 5,
   "metadata": {},
   "outputs": [],
   "source": [
    "import os\n",
    "import time\n",
    "import shutil\n",
    "\n",
    "directory_path = 'test2'\n",
    "\n",
    "def file_creator(dir_path):\n",
    "\n",
    "    file_count = 2\n",
    "\n",
    "    if not os.path.exists(dir_path):\n",
    "        os.mkdir(dir_path)\n",
    "\n",
    "    for i in range(file_count):\n",
    "        open(f'{dir_path}/{time.time()}.txt', mode='w').close()\n",
    "\n",
    "\n",
    "def file_finder(path):\n",
    "    file_dict = {}\n",
    "    for item in os.listdir(path):\n",
    "        if os.path.isfile(os.path.join(path, item)):\n",
    "            file_dict[item] = time.ctime(os.path.getctime(os.path.join(path, item)))\n",
    "    return file_dict\n",
    "\n",
    "\n",
    "def directory_creator(path):\n",
    "    for file, creation_time in file_finder(path).items():\n",
    "        creation_time = creation_time.replace(':', '_')\n",
    "        dir_path = os.path.join(path, creation_time)\n",
    "        if not os.path.exists(dir_path):\n",
    "            os.mkdir(dir_path)\n",
    "        shutil.move(os.path.join(path, file), os.path.join(path, creation_time, file))\n",
    "\n",
    "\n",
    "file_creator(directory_path)\n",
    "directory_creator(directory_path)"
   ]
  },
  {
   "cell_type": "markdown",
   "metadata": {},
   "source": [
    "**6.**\tИз файлов *shop1.txt* и *shop2.txt* считываются прайс-листы (наименование товара – цена). Необходимо объединить два прайс-листа так, чтобы если наименование товара присутствует в обоих листах, то в итоговый прайс-лист помещается большая цена. Результат записать в файл *shop_max.txt*."
   ]
  },
  {
   "cell_type": "code",
   "execution_count": 64,
   "metadata": {},
   "outputs": [
    {
     "data": {
      "text/plain": [
       "{'Ананасы в банке': '150',\n",
       " 'Баранки': '33',\n",
       " 'Гречневая крупа': '60',\n",
       " 'Кофе': '200',\n",
       " 'Лимонад': '50',\n",
       " 'Молоко': '40',\n",
       " 'Наггетсы': '110',\n",
       " 'Овсяная крупа': '30',\n",
       " 'Пряники': '70',\n",
       " 'Шоколад': '55',\n",
       " 'Абрикосы в банке': '150',\n",
       " 'Кола': '50',\n",
       " 'Йогурт': '40',\n",
       " 'Рулет бисквитный': '60',\n",
       " 'Чай': '200'}"
      ]
     },
     "execution_count": 64,
     "metadata": {},
     "output_type": "execute_result"
    }
   ],
   "source": [
    "from os import path\n",
    "\n",
    "if not path.exists('shop1.txt'):\n",
    "    with open('shop1.txt', mode='w', encoding='utf-8') as file:\n",
    "        file.writelines('Ананасы в банке - 150\\nБаранки - 30\\nГречневая крупа - 60\\nКофе - 200\\nЛимонад - 50\\n'\n",
    "                        'Молоко - 40\\nНаггетсы - 110\\nОвсяная крупа - 30\\nПряники - 70\\nШоколад - 50')\n",
    "\n",
    "if not path.exists('shop2.txt'):\n",
    "    with open('shop2.txt', mode='w', encoding='utf-8') as file:\n",
    "        file.writelines('Абрикосы в банке - 150\\nБаранки - 33\\nГречневая крупа - 55\\nКола - 50\\nЙогурт - 40\\n'\n",
    "                        'Молоко - 38\\nОвсяная крупа - 30\\nРулет бисквитный - 60\\nЧай - 200\\nШоколад - 55')\n",
    "\n",
    "\n",
    "with open('shop1.txt', mode='r', encoding='utf-8') as file:\n",
    "    shop1_price_list = file.readlines()\n",
    "\n",
    "with open('shop2.txt', mode='r', encoding='utf-8') as file:\n",
    "    shop2_price_list = file.readlines()\n",
    "\n",
    "\n",
    "def shop_max_creator(price_list, shop_max={}):\n",
    "    for item in price_list:\n",
    "        item = tuple(item.replace('\\n', '').split(' - '))\n",
    "        if item[0] in shop_max.keys():\n",
    "            if item[1] > shop_max[item[0]]:\n",
    "                shop_max[item[0]] = item[1]\n",
    "        else:\n",
    "            shop_max[item[0]] = item[1]\n",
    "    shop_max = dict(shop_max)\n",
    "    with open('shop_max.txt', mode='w', encoding='utf-8') as file:\n",
    "        for key, value in shop_max.items():\n",
    "            file.write(f'{key} - {value}\\n')\n",
    "    return shop_max\n",
    "\n",
    "shop_max_creator(shop2_price_list, shop_max_creator(shop1_price_list))"
   ]
  },
  {
   "cell_type": "markdown",
   "metadata": {},
   "source": [
    "**7.** Создайте файл *input.txt*, содержащий данные о странах экспор¬терах (не менее 10): название страны, название экспортируемого товара и объем экспортируемого товара (в тоннах). Напишите программу, позволяющую обрабатывать следующие запросы пользователя:\n",
    "-\tдобавить данные в файл;\n",
    "-\tвывести всю информацию, содержащуюся в файле;\n",
    "-\tвывести список товаров, экспортируемых введенной пользователем страной;\n",
    "-\tвывести список стран, экспортирующих заданный товар.\n",
    "\n"
   ]
  },
  {
   "cell_type": "code",
   "execution_count": null,
   "metadata": {},
   "outputs": [],
   "source": []
  }
 ],
 "metadata": {
  "kernelspec": {
   "display_name": "Python 3",
   "language": "python",
   "name": "python3"
  },
  "language_info": {
   "codemirror_mode": {
    "name": "ipython",
    "version": 3
   },
   "file_extension": ".py",
   "mimetype": "text/x-python",
   "name": "python",
   "nbconvert_exporter": "python",
   "pygments_lexer": "ipython3",
   "version": "3.12.0"
  }
 },
 "nbformat": 4,
 "nbformat_minor": 4
}
